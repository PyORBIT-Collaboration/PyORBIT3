{
 "cells": [
  {
   "cell_type": "code",
   "execution_count": null,
   "id": "55d1b491",
   "metadata": {},
   "outputs": [],
   "source": [
    "import numpy as np\n",
    "import matplotlib.pyplot as plt\n",
    "\n",
    "from orbit.danilov_envelope import DanilovEnvelope22"
   ]
  },
  {
   "cell_type": "code",
   "execution_count": null,
   "id": "84086ff3",
   "metadata": {},
   "outputs": [],
   "source": [
    "envelope = DanilovEnvelope22(\n",
    "    intrinsic_emittance=20.00e-06,\n",
    "    eps_x_frac=0.5,\n",
    "    mass=0.938,\n",
    "    kin_energy=1.0,\n",
    "    length=100.0,\n",
    "    intensity=0.0,\n",
    "    mode=1,\n",
    "    params=None\n",
    ")"
   ]
  },
  {
   "cell_type": "code",
   "execution_count": null,
   "id": "f970fcb5",
   "metadata": {},
   "outputs": [],
   "source": [
    "envelope.twiss_4d_vector()"
   ]
  },
  {
   "cell_type": "code",
   "execution_count": null,
   "id": "798b2a52",
   "metadata": {},
   "outputs": [],
   "source": [
    "envelope.set_twiss_4d(alpha_lx=0.0, alpha_ly=0.0, beta_lx=1.0, beta_ly=1.0, u=0.5, nu=np.pi * 0.5)\n",
    "envelope.twiss_4d_vector()\n",
    "\n",
    "x = envelope.sample(50_000)\n",
    "xmax = np.std(x, axis=0) * 3.0\n",
    "limits = list(zip(-xmax, xmax))\n",
    "\n",
    "fig, axs = plt.subplots(ncols=4, nrows=4, figsize=(3, 3), constrained_layout=True)\n",
    "for i in range(4):\n",
    "    for j in range(4):\n",
    "        ax = axs[i, j]\n",
    "        ax.hist2d(x[:, j], x[:, i], bins=50, range=[limits[j], limits[i]])\n",
    "for ax in axs.flat:\n",
    "    ax.set_xticks([])\n",
    "    ax.set_yticks([])\n",
    "plt.show()"
   ]
  },
  {
   "cell_type": "code",
   "execution_count": null,
   "id": "4860f266",
   "metadata": {},
   "outputs": [],
   "source": []
  }
 ],
 "metadata": {
  "kernelspec": {
   "display_name": "pyorbit-mpi",
   "language": "python",
   "name": "python3"
  },
  "language_info": {
   "codemirror_mode": {
    "name": "ipython",
    "version": 3
   },
   "file_extension": ".py",
   "mimetype": "text/x-python",
   "name": "python",
   "nbconvert_exporter": "python",
   "pygments_lexer": "ipython3",
   "version": "3.11.10"
  }
 },
 "nbformat": 4,
 "nbformat_minor": 5
}
