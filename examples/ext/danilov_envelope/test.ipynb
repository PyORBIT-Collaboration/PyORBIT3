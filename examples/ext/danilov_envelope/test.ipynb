{
 "cells": [
  {
   "cell_type": "code",
   "execution_count": null,
   "metadata": {},
   "outputs": [],
   "source": [
    "import numpy as np\n",
    "import matplotlib.pyplot as plt\n",
    "from pprint import pprint\n",
    "\n",
    "from orbit.core.bunch import Bunch\n",
    "from orbit.danilov_envelope import DanilovEnvelope20"
   ]
  },
  {
   "cell_type": "code",
   "execution_count": null,
   "metadata": {},
   "outputs": [],
   "source": [
    "envelope = DanilovEnvelope20(eps_x=1.0, eps_y=1.0, mass=0.938, kin_energy=1.0, length=100.0, intensity=0.0)\n",
    "envelope.set_twiss(beta_x=4.0, beta_y=2.0, alpha_x=0.0, alpha_y=-2.0)\n",
    "x = envelope.sample(100_000)\n",
    "\n",
    "cov_matrix_pred = envelope.cov()\n",
    "cov_matrix_samp = np.cov(x.T)\n",
    "\n",
    "print(cov_matrix_pred[0, 0])\n",
    "print(cov_matrix_samp[0, 0])\n",
    "\n",
    "limits = 2 * [(-7.0, 7.0)]\n",
    "\n",
    "fig, ax = plt.subplots(figsize=(3, 3))\n",
    "ax.hist2d(x[:, 2], x[:, 3], bins=100, range=limits)\n",
    "plt.show()"
   ]
  },
  {
   "cell_type": "code",
   "execution_count": null,
   "metadata": {},
   "outputs": [],
   "source": []
  }
 ],
 "metadata": {
  "kernelspec": {
   "display_name": "pyorbit-mpi",
   "language": "python",
   "name": "python3"
  },
  "language_info": {
   "codemirror_mode": {
    "name": "ipython",
    "version": 3
   },
   "file_extension": ".py",
   "mimetype": "text/x-python",
   "name": "python",
   "nbconvert_exporter": "python",
   "pygments_lexer": "ipython3",
   "version": "3.11.10"
  }
 },
 "nbformat": 4,
 "nbformat_minor": 2
}
